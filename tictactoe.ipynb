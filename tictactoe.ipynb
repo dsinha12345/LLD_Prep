{
 "cells": [
  {
   "cell_type": "code",
   "execution_count": 2,
   "id": "adc646e7",
   "metadata": {},
   "outputs": [],
   "source": [

    "#Game of TicTac Toe"
   ]
  },
  {
   "cell_type": "code",
   "execution_count": 23,
   "id": "8f697536",
   "metadata": {},
   "outputs": [
    {
     "name": "stdout",
     "output_type": "stream",
     "text": [
      "Tom wins!\n",
      "Game has been reset. Ready to play!\n",
      "Jerry wins!\n"
     ]
    },
    {
     "data": {
      "text/plain": [
       "True"
      ]
     },
     "execution_count": 23,
     "metadata": {},
     "output_type": "execute_result"
    }
   ],
   "source": [
    "class player:\n",
    "    def __init__(self,name, symbol):\n",
    "        self.name = name\n",
    "        self.symbol = symbol    \n",
    "\n",
    "class Board:\n",
    "    def __init__(self,size):\n",
    "        self.reset(size)\n",
    "    \n",
    "    def reset(self,size):\n",
    "        self.board = [\n",
    "            [' ' for _ in range(size)\n",
    "        ] for _ in range(size)]\n",
    "        \n",
    "        self.rowCounts = {}\n",
    "        self.colCounts = {}\n",
    "        self.diagCounts = {}\n",
    "        self.size = size\n",
    "    \n",
    "    def place(self,player, row, col):\n",
    "        if self.board[row][col]!=\" \":\n",
    "            return False\n",
    "        self.rowCounts.setdefault(row, {})\n",
    "        self.colCounts.setdefault(col, {})\n",
    "        self.diagCounts.setdefault(\"forward\", {})\n",
    "        self.diagCounts.setdefault(\"backward\", {})\n",
    "        sym = player.symbol\n",
    "        self.board[row][col] = sym\n",
    "\n",
    "        self.rowCounts[row][sym] = self.rowCounts[row].get(sym, 0) + 1\n",
    "        self.colCounts[col][sym] = self.colCounts[col].get(sym, 0) + 1\n",
    "\n",
    "        if self.rowCounts[row][sym] == self.size:\n",
    "            return True\n",
    "        if self.colCounts[col][sym] == self.size:\n",
    "            return True\n",
    "        \n",
    "        if row == col:\n",
    "            self.diagCounts[\"forward\"][sym] = self.diagCounts[\"forward\"].get(sym, 0) + 1\n",
    "            if self.diagCounts[\"forward\"][sym] == self.size:\n",
    "                return True\n",
    "        if row +col == self.size - 1:\n",
    "            self.diagCounts[\"backward\"][sym] = self.diagCounts[\"backward\"].get(sym, 0) + 1\n",
    "            if self.diagCounts[\"backward\"][sym] == self.size:\n",
    "                return True\n",
    "        return False\n",
    "\n",
    "class Game:\n",
    "    def __init__(self, player1, player2, board:Board):\n",
    "        self.board = board\n",
    "        self.players = [player1, player2]\n",
    "        self.currentPlayerIndex = 0\n",
    "        self.winner = None \n",
    "    \n",
    "    def reset(self, size):\n",
    "        self.board.reset(size)\n",
    "        self.currentPlayerIndex = 0\n",
    "        self.winner = None\n",
    "        print(\"Game has been reset. Ready to play!\")\n",
    "\n",
    "    def play(self, row, col):\n",
    "        if self.winner is not None:\n",
    "            print(\"Dude Seriously, the game is already over!\")\n",
    "            return False\n",
    "\n",
    "        player = self.players[self.currentPlayerIndex]\n",
    "        isGameDone = self.board.place(player, row, col)\n",
    "        if isGameDone:\n",
    "            self.winner = player\n",
    "            print(f\"{player.name} wins!\")\n",
    "            return True\n",
    "        self.currentPlayerIndex = (self.currentPlayerIndex + 1) % 2 \n",
    "        return True\n",
    "\n",
    "tom = player(\"Tom\", \"X\")\n",
    "jerry = player(\"Jerry\", \"O\")\n",
    "board = Board(3)\n",
    "game = Game(tom, jerry, board)\n",
    "\n",
    "game.play(0, 0)  # Tom plays at (0, 0)\n",
    "game.play(0, 1)  # Jerry plays at (0, 1)\n",
    "game.play(1, 1)  # Tom plays at (1, 1)\n",
    "game.play(1, 0)  # Jerry plays at (1, 0)\n",
    "game.play(2, 2)  # Tom plays at (2, 2)\n",
    "\n",
    "\n",
    "game.reset(3)  # Reset the board for a new game\n",
    "\n",
    "game.play(0, 0)  # Tom plays at (0, 0)\n",
    "game.play(1, 1)  # Jerry plays at (0, 1)\n",
    "game.play(0, 2)  # Tom plays at (0, 2)\n",
    "game.play(1,0)  # Jerry plays at (1, 0)\n",
    "game.play(2,2)  # Tom plays at (1, 1)\n",
    "game.play(1, 2)  # Jerry plays at (1, 2)"
   ]
  },
  {
   "cell_type": "code",
   "execution_count": null,
   "id": "15c2dbee",
   "metadata": {},
   "outputs": [],
   "source": []
  }
 ],
 "metadata": {
  "kernelspec": {
   "display_name": "cornea",
   "language": "python",
   "name": "python3"
  },
  "language_info": {
   "codemirror_mode": {
    "name": "ipython",
    "version": 3
   },
   "file_extension": ".py",
   "mimetype": "text/x-python",
   "name": "python",
   "nbconvert_exporter": "python",
   "pygments_lexer": "ipython3",
   "version": "3.12.3"
  }
 },
 "nbformat": 4,
 "nbformat_minor": 5
}
