{
  "nbformat": 4,
  "nbformat_minor": 0,
  "metadata": {
    "colab": {
      "provenance": []
    },
    "kernelspec": {
      "name": "python3",
      "display_name": "Python 3"
    },
    "language_info": {
      "name": "python"
    }
  },
  "cells": [
    {
      "cell_type": "code",
      "execution_count": 8,
      "metadata": {
        "colab": {
          "base_uri": "https://localhost:8080/"
        },
        "id": "cg-l0FIMUh2G",
        "outputId": "b59a93ea-cf3e-4d79-820e-9add5e33a5d3"
      },
      "outputs": [
        {
          "output_type": "stream",
          "name": "stdout",
          "text": [
            "210\n"
          ]
        }
      ],
      "source": [
        "#SOLID Principles\n",
        "\n",
        "class order:  #Single Responsibility Principle\n",
        "  def __init__(self, name):\n",
        "    self.name = name\n",
        "    self.items = []\n",
        "    self.quantities = []\n",
        "    self.prices = []\n",
        "    self.status = \"open\"\n",
        "\n",
        "  def _add_item(self,name, quantity, price):\n",
        "    self.items.append(name)\n",
        "    self.quantities.append(quantity)\n",
        "    self.prices.append(price)\n",
        "\n",
        "  def total_price(self):\n",
        "    total = 0\n",
        "    for i in range(len(self.prices)):\n",
        "      total+=self.quantities[i]*self.prices[i]\n",
        "    return total\n",
        "\n",
        "order1 = order(\"order1\")\n",
        "order1._add_item(\"Keyboard\", 1, 50)\n",
        "order1._add_item(\"SSD\", 1, 150)\n",
        "order1._add_item(\"USB Cable\", 2, 5)\n",
        "\n",
        "print(order1.total_price())"
      ]
    },
    {
      "cell_type": "code",
      "source": [
        "from abc import ABC, abstractmethod\n",
        "\n",
        "class paymentMethod(ABC):   #open closed principle\n",
        "  @abstractmethod\n",
        "  def pay(self, order):\n",
        "    pass\n",
        "\n",
        "class paymentMethod_auth(paymentMethod):    #interface Segregation Principle\n",
        "  def __init__(self,code):\n",
        "    self._code = code\n",
        "\n",
        "  @abstractmethod\n",
        "  def auth(self,code):\n",
        "    pass\n",
        "\n",
        "class authorizer(ABC):\n",
        "  @abstractmethod\n",
        "  def is_authorized(self):\n",
        "    pass\n",
        "\n",
        "class not_a_robot(authorizer):\n",
        "\n",
        "  is_verified = False\n",
        "\n",
        "  def verify_user(self):\n",
        "    self.is_verified = True\n",
        "  def is_authorized(self):\n",
        "    if self.is_verified:\n",
        "      print(\"Not a robot\")\n",
        "      return True\n",
        "    return False\n",
        "\n",
        "class creditCard(paymentMethod):\n",
        "  def __init__(self,security_code,check:authorizer):    #Liskov Subsitution Principle\n",
        "    self.__security_code = security_code\n",
        "    self.check = check\n",
        "\n",
        "  def pay(self,order):\n",
        "    if self.check.is_verified:\n",
        "      print(f\"Paying for order {order.name}\")\n",
        "      print(f\"Verifying security code {self.__security_code}\")\n",
        "      print(\"Processing credit card payment type\")\n",
        "      order.status = \"paid\"\n",
        "    else:\n",
        "      print(\"You're a robot\")\n",
        "\n",
        "class cash(paymentMethod):\n",
        "  def pay(self,order):\n",
        "    print(f\"Paying for order {order.name}\")\n",
        "    print(\"Processing cash payment type\")\n",
        "    order.status = \"paid\"\n",
        "\n",
        "class debitcard(paymentMethod_auth):\n",
        "  def __init__(self, security_code,auth_code):\n",
        "    super().__init__(auth_code)\n",
        "    self.__security_code = security_code\n",
        "\n",
        "  def auth(self,code):            #interface Segregation Principle\n",
        "    print(\"Processing debit card payment type\")\n",
        "    return\n",
        "\n",
        "  def pay(self,order):\n",
        "    print(f\"autheticating with code {self._code}\")\n",
        "    self.auth(self._code)\n",
        "    print(f\"Paying for order {order.name}\")\n",
        "    print(f\"Verifying security code {self.__security_code}\")\n",
        "    print(\"Processing debit card payment type\")\n",
        "    order.status = \"paid\"\n",
        "\n",
        "class paypal(paymentMethod):\n",
        "  def __init__(self, email_address):\n",
        "    self.__email_address = email_address\n",
        "\n",
        "  def pay(self,order):\n",
        "    print(f\"Paying for order {order.name}\")\n",
        "    print(f\"Verifying email address {self.__email_address}\")\n",
        "    print(\"Processing paypal payment type\")\n",
        "    order.status = \"paid\""
      ],
      "metadata": {
        "id": "bZWt_DS1VIEM"
      },
      "execution_count": 30,
      "outputs": []
    },
    {
      "cell_type": "code",
      "source": [
        "auth_check = not_a_robot()\n",
        "auth_check.verify_user()\n",
        "cc123 = creditCard(\"123\",auth_check)\n",
        "cc123.pay(order1)"
      ],
      "metadata": {
        "colab": {
          "base_uri": "https://localhost:8080/"
        },
        "id": "nIQhTUPwWSKM",
        "outputId": "4ecb9b18-a08a-4863-a92f-5fc462a03927"
      },
      "execution_count": 32,
      "outputs": [
        {
          "output_type": "stream",
          "name": "stdout",
          "text": [
            "Paying for order order1\n",
            "Verifying security code 123\n",
            "Processing credit card payment type\n"
          ]
        }
      ]
    },
    {
      "cell_type": "code",
      "source": [],
      "metadata": {
        "id": "SGUzfuD3WWye"
      },
      "execution_count": null,
      "outputs": []
    }
  ]
}