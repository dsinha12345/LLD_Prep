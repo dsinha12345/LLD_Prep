{
  "nbformat": 4,
  "nbformat_minor": 0,
  "metadata": {
    "colab": {
      "provenance": []
    },
    "kernelspec": {
      "name": "python3",
      "display_name": "Python 3"
    },
    "language_info": {
      "name": "python"
    }
  },
  "cells": [
    {
      "cell_type": "code",
      "execution_count": null,
      "metadata": {
        "id": "8sy2ZNHE7sHR"
      },
      "outputs": [],
      "source": []
    },
    {
      "cell_type": "code",
      "source": [
        "import os\n",
        "import pyheif\n",
        "from PIL import Image\n",
        "\n",
        "def convert_to_jpg(directory):\n",
        "    \"\"\"Converts JPEG, HEIC, and PNG files in a directory to JPG format.\n",
        "\n",
        "    Args:\n",
        "        directory (str): The path to the directory containing the images.\n",
        "    \"\"\"\n",
        "    converted_directory = os.path.join(directory, 'converted')\n",
        "    if not os.path.exists(converted_directory):\n",
        "        os.makedirs(converted_directory)\n",
        "\n",
        "    for filename in os.listdir(directory):\n",
        "        filepath = os.path.join(directory, filename)\n",
        "        if os.path.isfile(filepath):\n",
        "            name, ext = os.path.splitext(filename)\n",
        "            ext = ext.lower()\n",
        "\n",
        "            if ext in ['.jpeg', '.heic', \".png\"]:\n",
        "                try:\n",
        "                    if ext == '.heic':\n",
        "                        # Convert HEIC to Pillow Image\n",
        "                        heif_file = pyheif.read(filepath)\n",
        "                        image = Image.frombytes(\n",
        "                            heif_file.mode,\n",
        "                            heif_file.size,\n",
        "                            heif_file.data,\n",
        "                            \"raw\",\n",
        "                            heif_file.mode,\n",
        "                            heif_file.stride,\n",
        "                        )\n",
        "                    else: # Handle JPEG and PNG\n",
        "                        image = Image.open(filepath)\n",
        "\n",
        "                    # Convert to RGB if necessary (for some HEIC and PNG files)\n",
        "                    if image.mode != 'RGB':\n",
        "                        image = image.convert('RGB')\n",
        "\n",
        "                    # Save as JPG in the 'converted' directory\n",
        "                    new_filename = f\"{name}.jpg\"\n",
        "                    new_filepath = os.path.join(converted_directory, new_filename)\n",
        "                    image.save(new_filepath, 'jpeg')\n",
        "                    print(f\"Converted {filename} to {new_filename}\")\n",
        "\n",
        "                except Exception as e:\n",
        "                    print(f\"Error converting {filename}: {e}\")\n",
        "\n",
        "convert_to_jpg('/content/images')"
      ],
      "metadata": {
        "colab": {
          "base_uri": "https://localhost:8080/"
        },
        "id": "GkrTN3fg8Wpo",
        "outputId": "ac93654a-d3e5-41d4-cddd-27a89b439644"
      },
      "execution_count": 3,
      "outputs": [
        {
          "output_type": "stream",
          "name": "stdout",
          "text": [
            "Converted PD #21.HEIC to PD #21.jpg\n",
            "Converted PD #5.PNG to PD #5.jpg\n",
            "Converted PD #27.HEIC to PD #27.jpg\n",
            "Converted PD #25.HEIC to PD #25.jpg\n",
            "Converted PD #2.jpeg to PD #2.jpg\n",
            "Converted PD #15.HEIC to PD #15.jpg\n",
            "Converted PD #7.jpeg to PD #7.jpg\n",
            "Converted PD #18.HEIC to PD #18.jpg\n",
            "Converted PD #29.HEIC to PD #29.jpg\n",
            "Converted PD #13.jpeg to PD #13.jpg\n",
            "Converted PD #26.HEIC to PD #26.jpg\n",
            "Converted PD #17.HEIC to PD #17.jpg\n",
            "Converted PD #24.HEIC to PD #24.jpg\n",
            "Converted PD #11.HEIC to PD #11.jpg\n",
            "Converted PD #20.HEIC to PD #20.jpg\n",
            "Converted PD #10.HEIC to PD #10.jpg\n",
            "Converted PD #16.HEIC to PD #16.jpg\n",
            "Converted PD #30.HEIC to PD #30.jpg\n",
            "Converted PD #4.HEIC to PD #4.jpg\n",
            "Converted PD #32.HEIC to PD #32.jpg\n",
            "Converted PD #19.HEIC to PD #19.jpg\n",
            "Converted PD #3.jpeg to PD #3.jpg\n",
            "Converted PD #9.HEIC to PD #9.jpg\n",
            "Converted PD #28.HEIC to PD #28.jpg\n",
            "Converted PD #22.HEIC to PD #22.jpg\n",
            "Converted PD #14.HEIC to PD #14.jpg\n",
            "Converted PD #23.HEIC to PD #23.jpg\n",
            "Converted PD #12.PNG to PD #12.jpg\n",
            "Converted PD #33.HEIC to PD #33.jpg\n",
            "Converted PD #31.HEIC to PD #31.jpg\n",
            "Converted PD #8.jpeg to PD #8.jpg\n",
            "Converted PD #6.PNG to PD #6.jpg\n",
            "Converted PD #1.jpeg to PD #1.jpg\n"
          ]
        }
      ]
    },
    {
      "cell_type": "code",
      "metadata": {
        "colab": {
          "base_uri": "https://localhost:8080/",
          "height": 17
        },
        "id": "71e1703b",
        "outputId": "33999e2b-46ba-4d94-a0a3-7895a3252166"
      },
      "source": [
        "from google.colab import files\n",
        "import os\n",
        "\n",
        "# Specify the path to the folder you want to download\n",
        "folder_to_download = '/content/images/converted'\n",
        "\n",
        "# Create a zip file of the folder\n",
        "zip_filename = 'converted_images.zip'\n",
        "os.system(f'zip -r {zip_filename} {folder_to_download}')\n",
        "\n",
        "# Download the zip file\n",
        "files.download(zip_filename)"
      ],
      "execution_count": 4,
      "outputs": [
        {
          "output_type": "display_data",
          "data": {
            "text/plain": [
              "<IPython.core.display.Javascript object>"
            ],
            "application/javascript": [
              "\n",
              "    async function download(id, filename, size) {\n",
              "      if (!google.colab.kernel.accessAllowed) {\n",
              "        return;\n",
              "      }\n",
              "      const div = document.createElement('div');\n",
              "      const label = document.createElement('label');\n",
              "      label.textContent = `Downloading \"${filename}\": `;\n",
              "      div.appendChild(label);\n",
              "      const progress = document.createElement('progress');\n",
              "      progress.max = size;\n",
              "      div.appendChild(progress);\n",
              "      document.body.appendChild(div);\n",
              "\n",
              "      const buffers = [];\n",
              "      let downloaded = 0;\n",
              "\n",
              "      const channel = await google.colab.kernel.comms.open(id);\n",
              "      // Send a message to notify the kernel that we're ready.\n",
              "      channel.send({})\n",
              "\n",
              "      for await (const message of channel.messages) {\n",
              "        // Send a message to notify the kernel that we're ready.\n",
              "        channel.send({})\n",
              "        if (message.buffers) {\n",
              "          for (const buffer of message.buffers) {\n",
              "            buffers.push(buffer);\n",
              "            downloaded += buffer.byteLength;\n",
              "            progress.value = downloaded;\n",
              "          }\n",
              "        }\n",
              "      }\n",
              "      const blob = new Blob(buffers, {type: 'application/binary'});\n",
              "      const a = document.createElement('a');\n",
              "      a.href = window.URL.createObjectURL(blob);\n",
              "      a.download = filename;\n",
              "      div.appendChild(a);\n",
              "      a.click();\n",
              "      div.remove();\n",
              "    }\n",
              "  "
            ]
          },
          "metadata": {}
        },
        {
          "output_type": "display_data",
          "data": {
            "text/plain": [
              "<IPython.core.display.Javascript object>"
            ],
            "application/javascript": [
              "download(\"download_cbe87716-c435-4b8c-8b49-67ed4cf6847a\", \"converted_images.zip\", 42990562)"
            ]
          },
          "metadata": {}
        }
      ]
    },
    {
      "cell_type": "code",
      "source": [],
      "metadata": {
        "id": "b7NVVBjc8z2f"
      },
      "execution_count": null,
      "outputs": []
    }
  ]
}